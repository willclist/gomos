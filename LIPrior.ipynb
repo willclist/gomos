{
 "cells": [
  {
   "cell_type": "code",
   "execution_count": 1,
   "metadata": {},
   "outputs": [],
   "source": [
    "import numpy as np \n",
    "import matplotlib.pyplot as plt\n",
    "import matplotlib\n",
    "import numdifftools as nd\n",
    "from math import *\n",
    "from puwr import tauint, correlated_data\n",
    "%matplotlib inline"
   ]
  },
  {
   "cell_type": "code",
   "execution_count": 2,
   "metadata": {},
   "outputs": [],
   "source": [
    "def misfitwithH(x,y,func):\n",
    "    err_width = 0.1\n",
    "    m = func(x)\n",
    "    diff = (np.array(m[0])-np.array(y))\n",
    "    return (np.dot(diff,diff))/(2*err_width**2), m[1]\n",
    "\n",
    "def misfit(x,y,func):\n",
    "    err_width = 0.1\n",
    "    m = func(x)\n",
    "    diff = (np.array(m)-np.array(y))\n",
    "    return (np.dot(diff,diff))/(2*err_width**2)"
   ]
  },
  {
   "cell_type": "code",
   "execution_count": 3,
   "metadata": {},
   "outputs": [],
   "source": [
    "B = 10\n",
    "N = 1000\n",
    "t_init = 0\n",
    "t_end = 10\n",
    "dt = float(t_end - t_init)/N\n",
    "rt = np.sqrt(dt)\n",
    "p_init = 0\n",
    "kron = np.identity(N)\n",
    "\n",
    "def f(p):\n",
    "    return 10*p*(1 - p**2)/(1 + p**2)\n",
    "    \n",
    "def fgrad(p):\n",
    "    return (-10)*(p**4 + 4*p**2 - 1)/((1+p**2)**2)"
   ]
  },
  {
   "cell_type": "code",
   "execution_count": 4,
   "metadata": {},
   "outputs": [],
   "source": [
    "def Euler(x):\n",
    "    ts    = np.arange(t_init, t_end, dt)\n",
    "    ps    = np.zeros(N)\n",
    "    obvss = np.arange(t_init+0.5, t_end+0.5, 0.5)\n",
    "    obvs  = []\n",
    "\n",
    "    ps[0] = p_init\n",
    "    \n",
    "    for i in range(1, ts.size):\n",
    "        t = (i-1) * dt\n",
    "        p = ps[i-1]\n",
    "        ps[i] = p + f(p)*dt + rt*x[i-1]\n",
    "         \n",
    "        # Extraction Operator\n",
    "        if (i%(N/20) == 0):\n",
    "            obvs.append(ps[i])\n",
    "            \n",
    "    obvs.append(ps[-1])\n",
    "        \n",
    "    return(np.array(obvs))\n",
    "\n",
    "def EulerwithGrad(x):\n",
    "    ts    = np.arange(t_init, t_end, dt)\n",
    "    ps    = np.zeros(N)\n",
    "    obvss = np.arange(t_init+0.5, t_end+0.5, 0.5)\n",
    "    obvs  = []\n",
    "    gs    = np.zeros((N,N))\n",
    "    \n",
    "    ps[0] = p_init\n",
    "    \n",
    "    \n",
    "    for i in range(1, ts.size):\n",
    "        t = (i-1) * dt\n",
    "        p = ps[i-1]\n",
    "        ps[i] = p + f(p)*dt + rt*x[i-1]\n",
    "        \n",
    "        for k in range(ts.size):\n",
    "            g = gs[i-1,k]\n",
    "            gs[i,k] = g + fgrad(p)*g*dt + rt*kron[i,k]\n",
    "\n",
    "        \n",
    "    return(ps[20::int(N/20)],gs[20::int(N/20),:])\n",
    "         \n",
    "    \n",
    "\n",
    "# Test\n",
    "def lipriorreturn(x,A,B):\n",
    "    return (A@x) + (B@np.random.randn(len(x)))\n",
    "\n",
    "def pCNRW(x,a,Ir):\n",
    "    return a*x + (np.sqrt(1-a**2))*np.random.randn(len(x))\n"
   ]
  },
  {
   "cell_type": "code",
   "execution_count": 52,
   "metadata": {},
   "outputs": [],
   "source": [
    "def forli(H,t):\n",
    "    eigenValues, eigenVectors = np.linalg.eigh(H)\n",
    "    idx = eigenValues.argsort()[::-1]   \n",
    "    Dr = eigenValues[idx]\n",
    "    P = eigenVectors[:,idx]\n",
    "    \n",
    "    Dr = [i for i in Dr if (i > 0.00001)]\n",
    "    size = len(Dr)\n",
    "    P = P[0:size]\n",
    "    Ir = np.eye(size)\n",
    "    \n",
    "    Dr = np.diag(Dr)               \n",
    "    Da = (np.linalg.inv(2*Ir + t*Dr))@(2*Ir - t*Dr)\n",
    "    Db = (Ir - Da**2)\n",
    "    Db[Db < 0] = 0\n",
    "    Db = np.sqrt(Db)\n",
    "    a = (2 - t)/(2 + t)\n",
    "    b = np.sqrt(1 - a**2)\n",
    "    A = (P.T)@(Da - a*Ir)@np.conj(P) + a*np.eye(1000)\n",
    "    B = (P.T)@(Db - b*Ir)@np.conj(P) + b*np.eye(1000)\n",
    "    \n",
    "    return A,B"
   ]
  },
  {
   "cell_type": "code",
   "execution_count": 6,
   "metadata": {},
   "outputs": [],
   "source": [
    "def MHpcnrwH(niter, start, proposal, pdf, t, forward):\n",
    "    \n",
    "    # Define synthetic data\n",
    "    np.random.seed(2)\n",
    "    y = forward(np.random.rand(1000))[0] + 0.01*np.random.rand(20)\n",
    "    \n",
    "    # Generate initial point & data matrix\n",
    "    naccept = 0\n",
    "    x = [0]*niter\n",
    "    x[0] = start\n",
    "    a = (2 - t)/(2 + t)\n",
    "    Ir = np.eye(1000)\n",
    "    H = np.zeros((N,N))\n",
    "    # Metropolis Hastings\n",
    "    for i in np.arange(1,niter):\n",
    "        \n",
    "        current = x[i-1]\n",
    "        \n",
    "        \n",
    "        # Proposal\n",
    "        proposed = proposal(current,a,Ir)\n",
    "        \n",
    "        nafterwithH  = misfitwithH(proposed,y,forward)\n",
    "        nafter = nafterwithH[0]\n",
    "        jac = nafterwithH[1]\n",
    "        nbefore = misfit(current,y,Euler)\n",
    "        H = H + ((np.conj(jac.T))@(100*np.eye(20)))@jac\n",
    "        \n",
    "        #if (i == 100):\n",
    "         #   H = np.zeros((N,N))\n",
    "        \n",
    "        A = min([1,np.exp(nbefore - nafter)])\n",
    "        u = np.random.uniform()\n",
    "        \n",
    "        if (u<A):\n",
    "            x[i] = proposed\n",
    "            naccept += 1\n",
    "        else:\n",
    "            x[i] = current\n",
    "            \n",
    "    print(naccept)\n",
    "    return np.array(x), H/niter, y"
   ]
  },
  {
   "cell_type": "code",
   "execution_count": 13,
   "metadata": {},
   "outputs": [],
   "source": [
    "def MHpcnrwint(niter, start, proposal, pdf, t, forward):\n",
    "    \n",
    "    # Define synthetic data\n",
    "    np.random.seed(1)\n",
    "    y = Euler(np.random.randn(1000)) + 0.01*np.random.randn(20)\n",
    "    l = y\n",
    "    \n",
    "    # Generate initial point & data matrix\n",
    "    naccept = 0\n",
    "    counter = 0\n",
    "    x = [0]*niter\n",
    "    x[0] = start\n",
    "    a = (2 - t)/(2 + t)\n",
    "    Ir = np.eye(1000)\n",
    "    H = np.zeros((N,N))\n",
    "    \n",
    "    intH = niter/1000\n",
    "    # Metropolis Hastings\n",
    "    for i in np.arange(1,niter):\n",
    "        \n",
    "        current = x[i-1]\n",
    "        \n",
    "        \n",
    "        # Proposal\n",
    "        proposed = proposal(current,a,Ir)\n",
    "        \n",
    "\n",
    "        nbefore = misfit(current,y,Euler)\n",
    "        nafter  = misfit(proposed,y,Euler)\n",
    "        \n",
    "        if (i%50==0):\n",
    "            nk = misfitwithH(proposed,y,forward)\n",
    "            nafter = nk[0]\n",
    "            jac = nk[1]\n",
    "            H = H + ((np.conj(jac.T))@jac)*100\n",
    "            counter += 1\n",
    "            \n",
    "        A = min([1,np.exp(nbefore - nafter)])\n",
    "        u = np.random.uniform()\n",
    "        \n",
    "        if (u<A):\n",
    "            x[i] = proposed\n",
    "            naccept += 1\n",
    "            \n",
    "        else:\n",
    "            x[i] = current\n",
    "            \n",
    "    print(naccept)\n",
    "    print(counter)\n",
    "    return np.array(x), (H/counter), l"
   ]
  },
  {
   "cell_type": "code",
   "execution_count": 14,
   "metadata": {},
   "outputs": [],
   "source": [
    "start = np.random.rand(1000)"
   ]
  },
  {
   "cell_type": "code",
   "execution_count": 15,
   "metadata": {
    "scrolled": false
   },
   "outputs": [
    {
     "name": "stdout",
     "output_type": "stream",
     "text": [
      "3396\n",
      "199\n"
     ]
    }
   ],
   "source": [
    "l = MHpcnrwint(10000, start, pCNRW, misfit, 0.01, EulerwithGrad)"
   ]
  },
  {
   "cell_type": "code",
   "execution_count": 16,
   "metadata": {
    "scrolled": true
   },
   "outputs": [
    {
     "data": {
      "text/plain": [
       "array([[0.        , 0.        , 0.        , ..., 0.        , 0.        ,\n",
       "        0.        ],\n",
       "       [0.        , 8.18307692, 7.46675953, ..., 0.        , 0.        ,\n",
       "        0.        ],\n",
       "       [0.        , 7.46675953, 6.81328504, ..., 0.        , 0.        ,\n",
       "        0.        ],\n",
       "       ...,\n",
       "       [0.        , 0.        , 0.        , ..., 0.        , 0.        ,\n",
       "        0.        ],\n",
       "       [0.        , 0.        , 0.        , ..., 0.        , 0.        ,\n",
       "        0.        ],\n",
       "       [0.        , 0.        , 0.        , ..., 0.        , 0.        ,\n",
       "        0.        ]])"
      ]
     },
     "execution_count": 16,
     "metadata": {},
     "output_type": "execute_result"
    }
   ],
   "source": [
    "l[1]"
   ]
  },
  {
   "cell_type": "code",
   "execution_count": 17,
   "metadata": {},
   "outputs": [],
   "source": [
    "def MHpcnrw(niter, start, proposal, pdf, t, y):\n",
    "\n",
    "    # Generate initial point & data matrix\n",
    "    naccept = 0\n",
    "    x = [0]*niter\n",
    "    x[0] = start\n",
    "    a = (2 - t)/(2 + t)\n",
    "    Ir = np.eye(200)\n",
    "    # Metropolis Hastings\n",
    "    for i in np.arange(1,niter):\n",
    "        \n",
    "        current = x[i-1]\n",
    "        \n",
    "        # Proposal\n",
    "        proposed = proposal(current,a,Ir)\n",
    "\n",
    "        k = min([1,np.exp(pdf(current,y,Euler) - pdf(proposed,y,Euler))])\n",
    "        u = np.random.uniform()\n",
    "\n",
    "        if (u<k):\n",
    "            x[i] = proposed\n",
    "            naccept += 1\n",
    "        else:\n",
    "            x[i] = current\n",
    "            \n",
    "    print(naccept)\n",
    "    return np.array(x)"
   ]
  },
  {
   "cell_type": "code",
   "execution_count": 76,
   "metadata": {},
   "outputs": [],
   "source": [
    "def MHtestli(niter, start, proposal, pdf, t, forward,H,y):\n",
    "    \n",
    "    # Define synthetic data\n",
    "    j,B = forli(H,t)\n",
    "    a = (2 - t)/(2 + t)\n",
    "    Ir = np.eye(200)\n",
    "    # Generate initial point & data matrix\n",
    "    naccept = 0\n",
    "    x = [0]*niter\n",
    "    x[0] = start\n",
    "    # Metropolis Hastings\n",
    "    for i in np.arange(1,niter):\n",
    "        \n",
    "        current = x[i-1]\n",
    "        \n",
    "        # Proposal\n",
    "        proposed = proposal(current,j,B)\n",
    "\n",
    "        A = min([1,np.exp(pdf(current,y,forward) - pdf(proposed,y,forward))])\n",
    "        u = np.random.uniform()\n",
    "\n",
    "        if (u<A):\n",
    "            x[i] = proposed\n",
    "            naccept += 1\n",
    "        else:\n",
    "            x[i] = current\n",
    "            \n",
    "        if ((i%50)==0):\n",
    "            nk = misfitwithH(proposed,y,EulerwithGrad)\n",
    "            jac = nk[1]\n",
    "            H = (H + ((np.conj(jac.T))@jac)*100)/2\n",
    "            j,B = forli(H,t)\n",
    "            \n",
    "    print(naccept)\n",
    "    return np.array(x),y"
   ]
  },
  {
   "cell_type": "code",
   "execution_count": 37,
   "metadata": {
    "scrolled": true
   },
   "outputs": [
    {
     "name": "stdout",
     "output_type": "stream",
     "text": [
      "68315\n"
     ]
    }
   ],
   "source": [
    "a = MHpcnrw(200000, start, pCNRW, misfit, 0.01, l[2])"
   ]
  },
  {
   "cell_type": "code",
   "execution_count": 48,
   "metadata": {},
   "outputs": [
    {
     "data": {
      "text/plain": [
       "(200000, 1000)"
      ]
     },
     "execution_count": 48,
     "metadata": {},
     "output_type": "execute_result"
    }
   ],
   "source": [
    "a.shape"
   ]
  },
  {
   "cell_type": "code",
   "execution_count": 49,
   "metadata": {},
   "outputs": [
    {
     "data": {
      "image/png": "[encoded data removed]",
      "text/plain": [
       "<Figure size 432x288 with 2 Axes>"
      ]
     },
     "metadata": {
      "needs_background": "light"
     },
     "output_type": "display_data"
    },
    {
     "name": "stdout",
     "output_type": "stream",
     "text": [
      "mean = -0.005891103001977523 +/- 0.0018499337827217641\n",
      "tau_int = 344.2497000224045 +/- 2.33036975834604\n"
     ]
    }
   ],
   "source": [
    "mean, delta, tint, d_tint = tauint([a.T], 0, plots=True)\n",
    "print (\"mean = {0} +/- {1}\".format(mean, delta))\n",
    "print (\"tau_int = {0} +/- {1}\".format(tint, d_tint))"
   ]
  },
  {
   "cell_type": "code",
   "execution_count": 77,
   "metadata": {
    "scrolled": true
   },
   "outputs": [
    {
     "name": "stdout",
     "output_type": "stream",
     "text": [
      "58977\n"
     ]
    }
   ],
   "source": [
    "x = MHtestli(200000, start, lipriorreturn, misfit, 0.01, Euler, l[1],l[2])"
   ]
  },
  {
   "cell_type": "code",
   "execution_count": 78,
   "metadata": {},
   "outputs": [
    {
     "data": {
      "image/png": "[encoded data removed]",
      "text/plain": [
       "<Figure size 432x288 with 2 Axes>"
      ]
     },
     "metadata": {
      "needs_background": "light"
     },
     "output_type": "display_data"
    },
    {
     "name": "stdout",
     "output_type": "stream",
     "text": [
      "mean = -0.004684128685424967 +/- 0.0021101260080632882\n",
      "tau_int = 446.45522118055163 +/- 3.405399808840535\n"
     ]
    }
   ],
   "source": [
    "mean, delta, tint, d_tint = tauint([x[0].T], 0, plots=True)\n",
    "print (\"mean = {0} +/- {1}\".format(mean, delta))\n",
    "print (\"tau_int = {0} +/- {1}\".format(tint, d_tint))"
   ]
  },
  {
   "cell_type": "code",
   "execution_count": null,
   "metadata": {
    "scrolled": true
   },
   "outputs": [],
   "source": [
    "plt.plot(a)"
   ]
  },
  {
   "cell_type": "code",
   "execution_count": null,
   "metadata": {},
   "outputs": [],
   "source": [
    "plt.plot(a[3000:])"
   ]
  },
  {
   "cell_type": "code",
   "execution_count": 64,
   "metadata": {},
   "outputs": [],
   "source": [
    "def MHtestliwithup(niter, start, proposal, pdf, t, forward,H,y):\n",
    "    \n",
    "    # Define synthetic data\n",
    "    j,B = forli(H,t)\n",
    "    \n",
    "    # Generate initial point & data matrix\n",
    "    naccept = 0\n",
    "    x = [0]*niter\n",
    "    x[0] = start\n",
    "    # Metropolis Hastings\n",
    "    for i in np.arange(1,niter):\n",
    "        \n",
    "        current = x[i-1]\n",
    "        \n",
    "        # Proposal\n",
    "        proposed = proposal(current,j,B)\n",
    "        \n",
    "        if (i%50==0):\n",
    "            nafterwithH  = misfitwithH(proposed,y,forward)\n",
    "            nafter = nafterwithH[0]\n",
    "            jac = nafterwithH[1]\n",
    "            nbefore = misfit(current,y,Euler)\n",
    "            H = ((np.conj(jac.T))@jac)*100\n",
    "            j,B = forli(H,t)\n",
    "        \n",
    "        else:\n",
    "            nbefore = misfit(current,y,Euler)\n",
    "            nafter  = misfit(proposed,y,Euler)\n",
    "\n",
    "\n",
    "        A = min([1,np.exp(nbefore - nafter)])\n",
    "        u = np.random.uniform()\n",
    "\n",
    "        if (u<A):\n",
    "            x[i] = proposed\n",
    "            naccept += 1\n",
    "        else:\n",
    "            x[i] = current\n",
    "            \n",
    "    print(naccept)\n",
    "    return np.array(x),y"
   ]
  },
  {
   "cell_type": "code",
   "execution_count": null,
   "metadata": {},
   "outputs": [],
   "source": [
    "def forli(H,t):\n",
    "    eigenValues, eigenVectors = np.linalg.eigh(H)\n",
    "    idx = eigenValues.argsort()[::-1]   \n",
    "    Dr = eigenValues[idx]\n",
    "    P = eigenVectors[:,idx]\n",
    "    \n",
    "    Dr = [i for i in Dr if (i > 0.0001)]\n",
    "    size = len(Dr)\n",
    "    P = P[0:size]\n",
    "    Ir = np.eye(size)\n",
    "    \n",
    "    Dr = np.diag(Dr)               \n",
    "    Da = (np.linalg.inv(2*Ir + t*Dr))@(2*Ir - t*Dr)\n",
    "    Db = (Ir - Da**2)\n",
    "    Db[Db < 0] = 0\n",
    "    Db = np.sqrt(Db)\n",
    "    a = (2 - t)/(2 + t)\n",
    "    b = np.sqrt(1 - a**2)\n",
    "    A = (P.T)@(Da - a*Ir)@np.conj(P) + a*np.eye(1000)\n",
    "    B = (P.T)@(Db - b*Ir)@np.conj(P) + b*np.eye(1000)\n",
    "    \n",
    "    return A,B"
   ]
  },
  {
   "cell_type": "code",
   "execution_count": 20,
   "metadata": {},
   "outputs": [],
   "source": [
    "j,B = forli(l[1],0.01)"
   ]
  },
  {
   "cell_type": "code",
   "execution_count": 88,
   "metadata": {},
   "outputs": [],
   "source": [
    "eigenValues, eigenVectors = np.linalg.eigh(l[1])\n",
    "idx = eigenValues.argsort()[::-1]   \n",
    "Dr = eigenValues[idx]\n",
    "P = eigenVectors[:,idx]\n",
    "    \n",
    "Dr = [i for i in Dr if (i > 0.1)]\n",
    "size = len(Dr)\n",
    "P = P[0:size]\n",
    "Ir = np.eye(size)"
   ]
  },
  {
   "cell_type": "code",
   "execution_count": 89,
   "metadata": {},
   "outputs": [
    {
     "data": {
      "text/plain": [
       "51"
      ]
     },
     "execution_count": 89,
     "metadata": {},
     "output_type": "execute_result"
    }
   ],
   "source": [
    "len(Dr)"
   ]
  },
  {
   "cell_type": "code",
   "execution_count": 102,
   "metadata": {
    "scrolled": false
   },
   "outputs": [
    {
     "data": {
      "text/plain": [
       "[<matplotlib.lines.Line2D at 0x1c23776be0>]"
      ]
     },
     "execution_count": 102,
     "metadata": {},
     "output_type": "execute_result"
    },
    {
     "data": {
      "image/png": "[encoded data removed]",
      "text/plain": [
       "<Figure size 864x360 with 1 Axes>"
      ]
     },
     "metadata": {
      "needs_background": "light"
     },
     "output_type": "display_data"
    }
   ],
   "source": [
    "plt.figure(figsize = (12,5))\n",
    "plt.plot(Dr)"
   ]
  },
  {
   "cell_type": "code",
   "execution_count": 101,
   "metadata": {},
   "outputs": [
    {
     "data": {
      "text/plain": [
       "[<matplotlib.lines.Line2D at 0x1c23891c18>]"
      ]
     },
     "execution_count": 101,
     "metadata": {},
     "output_type": "execute_result"
    },
    {
     "data": {
      "image/png": "[encoded data removed]",
      "text/plain": [
       "<Figure size 432x288 with 1 Axes>"
      ]
     },
     "metadata": {
      "needs_background": "light"
     },
     "output_type": "display_data"
    }
   ],
   "source": [
    "plt.plot([log(n) for n in np.arange(1,52)],[log(x) for x in Dr])"
   ]
  },
  {
   "cell_type": "code",
   "execution_count": 32,
   "metadata": {},
   "outputs": [
    {
     "data": {
      "text/plain": [
       "[1680.9546297150537,\n",
       " 882.343130473416,\n",
       " 635.2841476150065,\n",
       " 361.1280367430204,\n",
       " 53.78748794935568,\n",
       " 39.332520965812044,\n",
       " 14.96534280063183,\n",
       " 11.520923207963321,\n",
       " 10.558618643725625,\n",
       " 9.519199403151081,\n",
       " 8.757757594073011,\n",
       " 7.637102413685016,\n",
       " 7.236783989082789,\n",
       " 6.897069103521191,\n",
       " 6.617503350491189,\n",
       " 6.549995171822237,\n",
       " 6.265992886260512,\n",
       " 5.992861544316439,\n",
       " 5.792419136127047,\n",
       " 5.763791468665091,\n",
       " 5.7547975421042015,\n",
       " 5.18715912208152,\n",
       " 4.951031950790648,\n",
       " 4.601354315064611,\n",
       " 2.482915624187103,\n",
       " 2.3510601591815368,\n",
       " 2.0465798757254845,\n",
       " 1.9033663567068348,\n",
       " 1.8303468538759236,\n",
       " 1.452872734167819,\n",
       " 1.3840160126977092,\n",
       " 1.240605082024607,\n",
       " 1.1355610016141924,\n",
       " 0.9198381269810433,\n",
       " 0.9029912520365925,\n",
       " 0.6935998535909776,\n",
       " 0.5630714393616636,\n",
       " 0.4762266392246469,\n",
       " 0.44306276784339654,\n",
       " 0.3378221682266609,\n",
       " 0.2855643698787397,\n",
       " 0.25430665387398715,\n",
       " 0.21922770137554232,\n",
       " 0.1935182227557875,\n",
       " 0.1510389897990922,\n",
       " 0.1299939984597138,\n",
       " 0.11944815068503137,\n",
       " 0.10947289095787474,\n",
       " 0.1026020642169118,\n",
       " 0.10135730516352046,\n",
       " 0.10020350529278953,\n",
       " 0.09107296790362036,\n",
       " 0.08196702207443762,\n",
       " 0.07609216012743177,\n",
       " 0.07571136690701466,\n",
       " 0.0678211473376365,\n",
       " 0.06080922301866246,\n",
       " 0.05799872903410588,\n",
       " 0.05573229326122436,\n",
       " 0.04604191998492557,\n",
       " 0.04004879316764127,\n",
       " 0.03935997636884741,\n",
       " 0.03564544921105884,\n",
       " 0.030399194945892192,\n",
       " 0.029306769862481142,\n",
       " 0.027569906262483547,\n",
       " 0.02739822035631579,\n",
       " 0.026270065076800096,\n",
       " 0.019040060268302326,\n",
       " 0.017769668292014925,\n",
       " 0.017345077272670813,\n",
       " 0.016900233223658613,\n",
       " 0.01664207154968601,\n",
       " 0.016366597617871795,\n",
       " 0.013733313640124395,\n",
       " 0.013297553683820393,\n",
       " 0.013269102075802007,\n",
       " 0.012800665984649235,\n",
       " 0.012703348101100626,\n",
       " 0.012124187410431603,\n",
       " 0.011232572183005763,\n",
       " 0.01006872368314317,\n",
       " 0.009833623482814854,\n",
       " 0.009633701373206202,\n",
       " 0.0096257582040591,\n",
       " 0.009485105947124232,\n",
       " 0.007804914695327468,\n",
       " 0.007625106565615594,\n",
       " 0.006893879306460472,\n",
       " 0.006436152655585051,\n",
       " 0.006252978729641755,\n",
       " 0.005853870646624523,\n",
       " 0.005641783426031334,\n",
       " 0.005534295416228789,\n",
       " 0.005382811256613427,\n",
       " 0.00508832240548563,\n",
       " 0.005027829197557376,\n",
       " 0.004533163726043931,\n",
       " 0.004468796655984886,\n",
       " 0.004333867973262614,\n",
       " 0.004119091140425617,\n",
       " 0.004085567588465953,\n",
       " 0.003787720464110817,\n",
       " 0.002977892960282685,\n",
       " 0.0029457827660265236,\n",
       " 0.0025946558550698153,\n",
       " 0.002556332103808382,\n",
       " 0.002546653404196516,\n",
       " 0.0024595738606829863,\n",
       " 0.0024440463882081293,\n",
       " 0.002349929682838843,\n",
       " 0.0022106332053121796,\n",
       " 0.0019399270784019717,\n",
       " 0.001925903007910883,\n",
       " 0.0017759006101816831,\n",
       " 0.0016143108750397315,\n",
       " 0.001610467585160768,\n",
       " 0.0016085986952412837,\n",
       " 0.0014573243741823113,\n",
       " 0.001433809706580266,\n",
       " 0.0013466906264172685,\n",
       " 0.0012923312533258291,\n",
       " 0.0012426082697587217,\n",
       " 0.001187822837177072,\n",
       " 0.0011639996995068866,\n",
       " 0.001129267690810246,\n",
       " 0.0011141031220217174,\n",
       " 0.0011029346376804055,\n",
       " 0.0010939077446034586,\n",
       " 0.0010685171035079407,\n",
       " 0.0010520079125956243,\n",
       " 0.0010238223464323697,\n",
       " 0.0009927685729972,\n",
       " 0.0009539818719265918,\n",
       " 0.0009431404263264005,\n",
       " 0.000912455120318009,\n",
       " 0.0008795304347497017,\n",
       " 0.0008769221515340125,\n",
       " 0.0008298315459473798,\n",
       " 0.0008202548641617623,\n",
       " 0.0008170875053628715,\n",
       " 0.0007618456216299756,\n",
       " 0.000686459578028971,\n",
       " 0.0006715606117711089,\n",
       " 0.0006588923499413706,\n",
       " 0.0006340362103395284,\n",
       " 0.0006237909382144199,\n",
       " 0.00061508666799614,\n",
       " 0.0005844528915351754,\n",
       " 0.0005774215235150894,\n",
       " 0.0005134334903974233,\n",
       " 0.0005028091611267805,\n",
       " 0.00048630438633729897,\n",
       " 0.0004791367931517337,\n",
       " 0.0004590935575132246,\n",
       " 0.0004508951964037004,\n",
       " 0.00043411020003874536,\n",
       " 0.0004233041799749253,\n",
       " 0.00040789757666453725,\n",
       " 0.00040384207978528733,\n",
       " 0.00038013216514714074,\n",
       " 0.0003753839336937109,\n",
       " 0.0003499104911386895,\n",
       " 0.0003488811004877496,\n",
       " 0.00033593889809542906,\n",
       " 0.00033179710002652097,\n",
       " 0.000327102444296948,\n",
       " 0.0003115168493794633,\n",
       " 0.0003088593360308169,\n",
       " 0.0002922468544801277,\n",
       " 0.0002862664499626819,\n",
       " 0.00027713376499451423,\n",
       " 0.0002736240400070169,\n",
       " 0.0002681263997201817,\n",
       " 0.000265725590209623,\n",
       " 0.0002467222348030143,\n",
       " 0.0002399084226339257,\n",
       " 0.0002395575155165105,\n",
       " 0.0002270071224826437,\n",
       " 0.00022090586179388043,\n",
       " 0.0002163609096128324,\n",
       " 0.00021106885473852355,\n",
       " 0.0002083743344718239,\n",
       " 0.000184046976497743,\n",
       " 0.00017731979922826864,\n",
       " 0.0001736907826759154,\n",
       " 0.00017248408980267854,\n",
       " 0.00017150990344529148,\n",
       " 0.00016998465262368196,\n",
       " 0.00016773710063767397,\n",
       " 0.0001631678799926807,\n",
       " 0.00015568254782733602,\n",
       " 0.00015529632320326049,\n",
       " 0.00014746181250151595,\n",
       " 0.00014503010439369723,\n",
       " 0.00014397395796882534,\n",
       " 0.00014231733190205539,\n",
       " 0.00013895163267634925,\n",
       " 0.00013609918491260534,\n",
       " 0.00013541241680831262,\n",
       " 0.00013280940295704754,\n",
       " 0.00013196995242037196,\n",
       " 0.000128788013707466,\n",
       " 0.00012427123057442123,\n",
       " 0.00012277050690847236,\n",
       " 0.0001215540539090077,\n",
       " 0.00012097008653996497,\n",
       " 0.00011787886109681363,\n",
       " 0.00011730427426159941,\n",
       " 0.00010971957723643297,\n",
       " 0.00010938547862882742,\n",
       " 0.00010681782676478896]"
      ]
     },
     "execution_count": 32,
     "metadata": {},
     "output_type": "execute_result"
    }
   ],
   "source": [
    "Dr"
   ]
  },
  {
   "cell_type": "code",
   "execution_count": null,
   "metadata": {},
   "outputs": [],
   "source": []
  }
 ],
 "metadata": {
  "kernelspec": {
   "display_name": "Python 3",
   "language": "python",
   "name": "python3"
  },
  "language_info": {
   "codemirror_mode": {
    "name": "ipython",
    "version": 3
   },
   "file_extension": ".py",
   "mimetype": "text/x-python",
   "name": "python",
   "nbconvert_exporter": "python",
   "pygments_lexer": "ipython3",
   "version": "3.7.6"
  }
 },
 "nbformat": 4,
 "nbformat_minor": 2
}
